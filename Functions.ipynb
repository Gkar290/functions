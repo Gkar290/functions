{
  "nbformat": 4,
  "nbformat_minor": 0,
  "metadata": {
    "colab": {
      "provenance": []
    },
    "kernelspec": {
      "name": "python3",
      "display_name": "Python 3"
    },
    "language_info": {
      "name": "python"
    }
  },
  "cells": [
    {
      "cell_type": "code",
      "execution_count": null,
      "metadata": {
        "id": "lsVFOp5_u6bV"
      },
      "outputs": [],
      "source": []
    },
    {
      "cell_type": "markdown",
      "source": [
        "#FUNCTIONS\n",
        "\n",
        "1-QUESTION1\n",
        "\n",
        "- ANSWER OF QSN 1\n",
        "\n",
        "2question 2\n",
        "\n",
        " - answer\n",
        "\n",
        "\n"
      ],
      "metadata": {
        "id": "9CK4YUsOvaa2"
      }
    },
    {
      "cell_type": "markdown",
      "source": [
        "#questions\n",
        "\n",
        "...\n",
        "comment\n",
        "...\n"
      ],
      "metadata": {
        "id": "_7akzflmx5li"
      }
    }
  ]
}